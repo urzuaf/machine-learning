{
 "cells": [
  {
   "cell_type": "markdown",
   "id": "cd9d71cb",
   "metadata": {},
   "source": [
    " # 1. Exploración teórica de las señales ECG y variables del dataset\n",
    "## Contexto del problema\n",
    "\n",
    "La fibrilación auricular (AFib) es una de las arritmias cardíacas más comunes. Se caracteriza por latidos cardíacos irregulares y, a menudo, rápidos. Su detección oportuna es fundamental, ya que puede prevenir complicaciones graves como accidentes cerebrovasculares, insuficiencia cardíaca y otras enfermedades cardíacas.\n",
    "\n",
    "Los ECG (electrocardiogramas) son la herramienta estándar para diagnosticar arritmias. Sin embargo, interpretar grandes volúmenes de señales ECG de forma manual es poco escalable. Aquí es donde entra el modelo de ML entrenado para detectar patrones en los datos. Estos modelos pueden ayudar a automatizar el proceso de diagnóstico, reduciendo errores humanos y permitiendo análisis a gran escala, sirviendo de apoyo para el diagnostico de los medicos especializados en el tema.\n",
    "\n",
    "## Utilidad del modelo de Machine Learning\n",
    "\n",
    "El modelo a desarrollar tendrá como objetivo:\n",
    "\n",
    "- Clasificar segmentos de señal ECG usando solo información extraída de los intervalos RR.\n",
    "\n",
    "- Distinguir entre ritmo normal y fibrilación auricular.\n",
    "\n",
    "- Servir como base para un sistema de monitoreo automatizado que pueda alertar de forma temprana al paciente o médico tratante.\n",
    "\n",
    "Esto se alinea con aplicaciones clínicas reales, donde dispositivos portátiles como smartwatches pueden detectar alteraciones cardíacas en tiempo real.\n",
    "\n",
    "\n",
    "## Importancia de cada variable del dataset\n",
    "\n",
    "| Variable     | Descripción técnica                                                                                   | Relevancia para la clasificación                                                                                      |\n",
    "| ------------ | ----------------------------------------------------------------------------------------------------- | --------------------------------------------------------------------------------------------------------------------- |\n",
    "| **mean\\_rr** | Promedio de los intervalos RR (en milisegundos). Refleja el **ritmo cardíaco promedio** del segmento. | En AFib suele haber un promedio más bajo (taquicardia) o muy variable. En ritmo normal es más constante.              |\n",
    "| **std\\_rr**  | Desviación estándar de los intervalos RR. Indica la **variabilidad del ritmo**.                       | En AFib hay una **alta variabilidad**; en ritmo normal, menor. Muy útil como separador.                               |\n",
    "| **skew\\_rr** | Asimetría de la distribución de RR. Mide si los intervalos son más frecuentes en un extremo.          | AFib puede producir distribuciones asimétricas debido a latidos muy cortos o largos intercalados.                     |\n",
    "| **kurt\\_rr** | Curtosis de la distribución de RR. Mide la **concentración de valores alrededor de la media**.        | En AFib, los valores pueden estar más dispersos, lo que lleva a curtosis baja; en ritmo normal, pueden agruparse más. |\n",
    "| **label**    | Clase del segmento: `Normal` o `AFib`.                                                                | Etiqueta supervisada para entrenar y evaluar el modelo.                                                               |\n",
    "\n",
    "\n",
    "En lugar de procesar señales crudas (que es complejo y requiere alto poder de cómputo), este enfoque reduce la dimensionalidad y complejidad al utilizar características estadísticas ya extraídas. Esto tiene varias ventajas:\n",
    "\n",
    "- Permite entrenar modelos simples con pocos datos.\n",
    "\n",
    "- Es interpretable: cada atributo tiene un significado clínico claro.\n",
    "\n",
    "\n"
   ]
  }
 ],
 "metadata": {
  "language_info": {
   "name": "python"
  }
 },
 "nbformat": 4,
 "nbformat_minor": 5
}
