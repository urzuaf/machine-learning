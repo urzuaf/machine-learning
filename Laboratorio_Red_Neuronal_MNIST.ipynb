{
 "cells": [
  {
   "cell_type": "markdown",
   "id": "0e566d1d",
   "metadata": {},
   "source": [
    "\n",
    "# Laboratorio: Red Neuronal con MNIST  \n",
    "**Curso:** Machine Learning  \n",
    "**Total puntos:** 10\n",
    "\n",
    "**Objetivo:** Implementar una red neuronal simple para clasificar dígitos escritos a mano del conjunto de datos MNIST utilizando Python y Keras.\n"
   ]
  },
  {
   "cell_type": "markdown",
   "id": "d6ff2177",
   "metadata": {},
   "source": [
    "\n",
    "## Paso 1: Cargar el conjunto de datos MNIST (1 punto)\n",
    "\n",
    "Ejecuta el siguiente bloque para descargar y explorar el conjunto de datos.\n"
   ]
  },
  {
   "cell_type": "code",
   "execution_count": 1,
   "id": "7c659575",
   "metadata": {},
   "outputs": [
    {
     "name": "stderr",
     "output_type": "stream",
     "text": [
      "2025-05-18 10:15:12.429044: I external/local_xla/xla/tsl/cuda/cudart_stub.cc:32] Could not find cuda drivers on your machine, GPU will not be used.\n",
      "2025-05-18 10:15:12.542252: I external/local_xla/xla/tsl/cuda/cudart_stub.cc:32] Could not find cuda drivers on your machine, GPU will not be used.\n",
      "2025-05-18 10:15:12.600064: E external/local_xla/xla/stream_executor/cuda/cuda_fft.cc:467] Unable to register cuFFT factory: Attempting to register factory for plugin cuFFT when one has already been registered\n",
      "WARNING: All log messages before absl::InitializeLog() is called are written to STDERR\n",
      "E0000 00:00:1747577712.706947  443293 cuda_dnn.cc:8579] Unable to register cuDNN factory: Attempting to register factory for plugin cuDNN when one has already been registered\n",
      "E0000 00:00:1747577712.733554  443293 cuda_blas.cc:1407] Unable to register cuBLAS factory: Attempting to register factory for plugin cuBLAS when one has already been registered\n",
      "W0000 00:00:1747577712.836987  443293 computation_placer.cc:177] computation placer already registered. Please check linkage and avoid linking the same target more than once.\n",
      "W0000 00:00:1747577712.837036  443293 computation_placer.cc:177] computation placer already registered. Please check linkage and avoid linking the same target more than once.\n",
      "W0000 00:00:1747577712.837040  443293 computation_placer.cc:177] computation placer already registered. Please check linkage and avoid linking the same target more than once.\n",
      "W0000 00:00:1747577712.837044  443293 computation_placer.cc:177] computation placer already registered. Please check linkage and avoid linking the same target more than once.\n",
      "2025-05-18 10:15:12.844470: I tensorflow/core/platform/cpu_feature_guard.cc:210] This TensorFlow binary is optimized to use available CPU instructions in performance-critical operations.\n",
      "To enable the following instructions: AVX2 FMA, in other operations, rebuild TensorFlow with the appropriate compiler flags.\n"
     ]
    },
    {
     "name": "stdout",
     "output_type": "stream",
     "text": [
      "Downloading data from https://storage.googleapis.com/tensorflow/tf-keras-datasets/mnist.npz\n",
      "\u001b[1m11490434/11490434\u001b[0m \u001b[32m━━━━━━━━━━━━━━━━━━━━\u001b[0m\u001b[37m\u001b[0m \u001b[1m1s\u001b[0m 0us/step\n",
      "Tamaño del set de entrenamiento: (60000, 28, 28)\n",
      "Tamaño del set de test: (10000, 28, 28)\n"
     ]
    }
   ],
   "source": [
    "\n",
    "from tensorflow.keras.datasets import mnist\n",
    "\n",
    "# Cargar datos\n",
    "(x_train, y_train), (x_test, y_test) = mnist.load_data()\n",
    "\n",
    "print(\"Tamaño del set de entrenamiento:\", x_train.shape)\n",
    "print(\"Tamaño del set de test:\", x_test.shape)\n"
   ]
  },
  {
   "cell_type": "markdown",
   "id": "8c2895d0",
   "metadata": {},
   "source": [
    "\n",
    "## Paso 2: Visualizar ejemplos del dataset (1 punto)\n",
    "\n",
    "✏️ **Slot para completar:** Visualiza al menos 5 imágenes con sus etiquetas utilizando `matplotlib.pyplot.imshow()`.\n"
   ]
  },
  {
   "cell_type": "code",
   "execution_count": 3,
   "id": "1fab1a72",
   "metadata": {},
   "outputs": [
    {
     "data": {
      "image/png": "[encoded data removed]",
      "text/plain": [
       "<Figure size 640x480 with 5 Axes>"
      ]
     },
     "metadata": {},
     "output_type": "display_data"
    }
   ],
   "source": [
    "import matplotlib.pyplot as plt\n",
    "\n",
    "for i in range(5):\n",
    "    plt.subplot(1, 5, i + 1)\n",
    "    plt.imshow(x_train[i], cmap='gray')\n",
    "    plt.title(f\"Etiqueta: {y_train[i]}\")\n",
    "    plt.axis('off')\n",
    "\n",
    "plt.tight_layout()\n",
    "plt.show()\n",
    "\n"
   ]
  },
  {
   "cell_type": "markdown",
   "id": "9e5bc3a8",
   "metadata": {},
   "source": [
    "\n",
    "## Paso 3: Preprocesamiento (1 punto)\n",
    "\n",
    "✏️ **Slot para completar:** \n",
    "- Normaliza las imágenes (divide por 255.0).\n",
    "- Aplana cada imagen a un vector de 784 valores.\n",
    "- Codifica las etiquetas con `to_categorical`.\n"
   ]
  },
  {
   "cell_type": "code",
   "execution_count": 4,
   "id": "40757ea1",
   "metadata": {},
   "outputs": [],
   "source": [
    "\n",
    "# COMPLETA AQUÍ: Normalización, flattening y codificación one-hot\n",
    "from tensorflow.keras.utils import to_categorical\n",
    "\n",
    "x_train = x_train / 255.0\n",
    "x_test = x_test / 255.0\n",
    "\n",
    "x_train = x_train.reshape(-1, 784)\n",
    "x_test = x_test.reshape(-1, 784)\n",
    "\n",
    "y_train = to_categorical(y_train, 10)\n",
    "y_test = to_categorical(y_test, 10)"
   ]
  },
  {
   "cell_type": "markdown",
   "id": "36e5006d",
   "metadata": {},
   "source": [
    "\n",
    "## Paso 4: Definir la red neuronal (2 puntos)\n",
    "\n",
    "✏️ **Slot para completar:** \n",
    "- Crea un modelo `Sequential`.\n",
    "- Agrega una capa oculta con activación ReLU.\n",
    "- Agrega una capa de salida con activación Softmax.\n",
    "- Compila el modelo con `adam` y `categorical_crossentropy`.\n"
   ]
  },
  {
   "cell_type": "code",
   "execution_count": 5,
   "id": "9256bacd",
   "metadata": {},
   "outputs": [
    {
     "name": "stderr",
     "output_type": "stream",
     "text": [
      "/home/furzua/Utal-2025/ML/machine-learning/tf_env/lib64/python3.10/site-packages/keras/src/layers/core/dense.py:87: UserWarning: Do not pass an `input_shape`/`input_dim` argument to a layer. When using Sequential models, prefer using an `Input(shape)` object as the first layer in the model instead.\n",
      "  super().__init__(activity_regularizer=activity_regularizer, **kwargs)\n",
      "2025-05-18 10:18:14.194004: E external/local_xla/xla/stream_executor/cuda/cuda_platform.cc:51] failed call to cuInit: INTERNAL: CUDA error: Failed call to cuInit: UNKNOWN ERROR (303)\n"
     ]
    }
   ],
   "source": [
    "\n",
    "# COMPLETA AQUÍ: Definición y compilación del modelo\n",
    "from tensorflow.keras.models import Sequential\n",
    "from tensorflow.keras.layers import Dense\n",
    "\n",
    "model = Sequential()\n",
    "model.add(Dense(128, activation='relu', input_shape=(784,)))  # capa oculta\n",
    "model.add(Dense(10, activation='softmax'))  # capa de salida\n",
    "\n",
    "# Compilar el modelo\n",
    "model.compile(optimizer='adam',\n",
    "              loss='categorical_crossentropy',\n",
    "              metrics=['accuracy'])\n",
    "\n"
   ]
  },
  {
   "cell_type": "markdown",
   "id": "32fa8560",
   "metadata": {},
   "source": [
    "\n",
    "## Paso 5: Entrenar el modelo (1 punto)\n",
    "\n",
    "✏️ **Slot para completar:** Entrena el modelo con `fit` durante 5 épocas y batch size 32.\n"
   ]
  },
  {
   "cell_type": "code",
   "execution_count": 6,
   "id": "df8023c2",
   "metadata": {},
   "outputs": [
    {
     "name": "stdout",
     "output_type": "stream",
     "text": [
      "Epoch 1/5\n"
     ]
    },
    {
     "name": "stderr",
     "output_type": "stream",
     "text": [
      "2025-05-18 10:18:40.294218: W external/local_xla/xla/tsl/framework/cpu_allocator_impl.cc:83] Allocation of 188160000 exceeds 10% of free system memory.\n"
     ]
    },
    {
     "name": "stdout",
     "output_type": "stream",
     "text": [
      "\u001b[1m1875/1875\u001b[0m \u001b[32m━━━━━━━━━━━━━━━━━━━━\u001b[0m\u001b[37m\u001b[0m \u001b[1m6s\u001b[0m 3ms/step - accuracy: 0.8825 - loss: 0.4167\n",
      "Epoch 2/5\n",
      "\u001b[1m1875/1875\u001b[0m \u001b[32m━━━━━━━━━━━━━━━━━━━━\u001b[0m\u001b[37m\u001b[0m \u001b[1m5s\u001b[0m 3ms/step - accuracy: 0.9646 - loss: 0.1188\n",
      "Epoch 3/5\n",
      "\u001b[1m1875/1875\u001b[0m \u001b[32m━━━━━━━━━━━━━━━━━━━━\u001b[0m\u001b[37m\u001b[0m \u001b[1m4s\u001b[0m 2ms/step - accuracy: 0.9765 - loss: 0.0791\n",
      "Epoch 4/5\n",
      "\u001b[1m1875/1875\u001b[0m \u001b[32m━━━━━━━━━━━━━━━━━━━━\u001b[0m\u001b[37m\u001b[0m \u001b[1m3s\u001b[0m 1ms/step - accuracy: 0.9826 - loss: 0.0584\n",
      "Epoch 5/5\n",
      "\u001b[1m1875/1875\u001b[0m \u001b[32m━━━━━━━━━━━━━━━━━━━━\u001b[0m\u001b[37m\u001b[0m \u001b[1m3s\u001b[0m 2ms/step - accuracy: 0.9877 - loss: 0.0405\n"
     ]
    },
    {
     "data": {
      "text/plain": [
       "<keras.src.callbacks.history.History at 0x7f2828b12680>"
      ]
     },
     "execution_count": 6,
     "metadata": {},
     "output_type": "execute_result"
    }
   ],
   "source": [
    "\n",
    "# COMPLETA AQUÍ: Entrenamiento del modelo\n",
    "model.fit(x_train, y_train, epochs=5, batch_size=32)\n"
   ]
  },
  {
   "cell_type": "markdown",
   "id": "abd4ea81",
   "metadata": {},
   "source": [
    "\n",
    "## Paso 6: Evaluar el modelo (1 punto)\n",
    "\n",
    "✏️ **Slot para completar:** Evalúa el modelo con `evaluate()` en el conjunto de prueba.\n"
   ]
  },
  {
   "cell_type": "code",
   "execution_count": 7,
   "id": "fed31d1c",
   "metadata": {},
   "outputs": [
    {
     "name": "stderr",
     "output_type": "stream",
     "text": [
      "2025-05-18 10:19:45.435494: W external/local_xla/xla/tsl/framework/cpu_allocator_impl.cc:83] Allocation of 31360000 exceeds 10% of free system memory.\n"
     ]
    },
    {
     "name": "stdout",
     "output_type": "stream",
     "text": [
      "\u001b[1m313/313\u001b[0m \u001b[32m━━━━━━━━━━━━━━━━━━━━\u001b[0m\u001b[37m\u001b[0m \u001b[1m1s\u001b[0m 2ms/step - accuracy: 0.9732 - loss: 0.0844\n",
      "Precisión en el set de prueba: 0.9764\n"
     ]
    }
   ],
   "source": [
    "\n",
    "# COMPLETA AQUÍ: Evaluación del modelo\n",
    "test_loss, test_acc = model.evaluate(x_test, y_test)\n",
    "print(f\"Precisión en el set de prueba: {test_acc:.4f}\")\n"
   ]
  },
  {
   "cell_type": "markdown",
   "id": "7b5a1fd0",
   "metadata": {},
   "source": [
    "## Preguntas de Reflexión (3 puntos en total)"
   ]
  },
  {
   "cell_type": "markdown",
   "id": "7455c9fb",
   "metadata": {},
   "source": [
    "### 1. ¿Qué ventaja observas al usar codificación one-hot para las etiquetas? (0.5 punto)"
   ]
  },
  {
   "cell_type": "markdown",
   "id": "d17c43f2",
   "metadata": {},
   "source": [
    "La ventaja es que así el modelo entiende mejor que cada número es una clase distinta. Si solo usáramos los números tal cual (0, 1, 2...), podría pensar que uno es más grande que otro, cuando en realidad solo son etiquetas diferentes."
   ]
  },
  {
   "cell_type": "markdown",
   "id": "dbd9f5f9",
   "metadata": {},
   "source": [
    "### 2. ¿Qué ocurre si aumentas o disminuyes el número de neuronas ocultas? (0.5 punto)"
   ]
  },
  {
   "cell_type": "markdown",
   "id": "c4338f84",
   "metadata": {},
   "source": [
    "Si se aumentan las neuronas, el modelo puede aprender cosas más complejas, pero también puede tardar más en entrenar o puede aprender cosas que no sirven (como ruido). Por otro lado, reducir demasiado la cantidad de neuronas puede hacer que el modelo sea demasiado simple y no tenga suficiente capacidad para aprender patrones relevantes lo que lleva a un bajo rendimiento tanto en entrenamiento como en prueba **subajuste**, La clave está en encontrar un equilibrio adecuado"
   ]
  },
  {
   "cell_type": "markdown",
   "id": "2a1bf432",
   "metadata": {},
   "source": [
    "### 3. ¿Qué alternativa propondrías al optimizador `adam` y por qué? (0.5 punto)"
   ]
  },
  {
   "cell_type": "markdown",
   "id": "754e502a",
   "metadata": {},
   "source": [
    "Una alternativa a adam es RMSprop. Ambos ajustan la tasa de aprendizaje automáticamente, pero Adam combina el promedio del gradiente y el promedio del cuadrado del gradiente, mientras que RMSprop solo usa este último. Adam suele ser más rápido y estable en general, pero RMSprop puede funcionar mejor en tareas secuenciales o donde hay mucho ruido"
   ]
  },
  {
   "cell_type": "markdown",
   "id": "c56b32ea",
   "metadata": {},
   "source": [
    "### 4. ¿Cómo cambia el desempeño si entrenas más épocas? ¿Cuál es el riesgo? (0.5 punto)"
   ]
  },
  {
   "cell_type": "markdown",
   "id": "26f5d335",
   "metadata": {},
   "source": [
    "Al aumentar el número de épocas, el modelo tiene más oportunidades de ajustar sus pesos y reducir el error en los datos de entrenamiento, Sin embargo, entrenar por demasiadas épocas puede llevar al sobreajuste ya que el modelo comienza a aprender patrones específicos del conjunto de entrenamiento, lo cual disminuye su capacidad de generalizar a nuevos datos"
   ]
  },
  {
   "cell_type": "markdown",
   "id": "d79eea4a",
   "metadata": {},
   "source": [
    "### 5. ¿Por qué es importante dividir en conjuntos de entrenamiento y prueba? (1 punto)"
   ]
  },
  {
   "cell_type": "markdown",
   "id": "90713ab6",
   "metadata": {},
   "source": [
    "Es fundamental para evaluar la capacidad de generalización del modelo. El conjunto de entrenamiento se utiliza para ajustar los pesos del modelo, mientras que el conjunto de prueba, que nunca ha sido visto durante el entrenamiento, se usa para medir el rendimiento del modelo en datos nuevos. Esta división permite detectar si el modelo está cayendo en un sobreajuste\n"
   ]
  }
 ],
 "metadata": {
  "kernelspec": {
   "display_name": "Python (tf_env)",
   "language": "python",
   "name": "tf_env"
  },
  "language_info": {
   "codemirror_mode": {
    "name": "ipython",
    "version": 3
   },
   "file_extension": ".py",
   "mimetype": "text/x-python",
   "name": "python",
   "nbconvert_exporter": "python",
   "pygments_lexer": "ipython3",
   "version": "3.10.17"
  }
 },
 "nbformat": 4,
 "nbformat_minor": 5
}
